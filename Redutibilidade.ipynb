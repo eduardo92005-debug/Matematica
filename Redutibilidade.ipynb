{
  "nbformat": 4,
  "nbformat_minor": 0,
  "metadata": {
    "colab": {
      "name": "Redutibilidade.ipynb",
      "provenance": []
    },
    "kernelspec": {
      "name": "python3",
      "display_name": "Python 3"
    },
    "language_info": {
      "name": "python"
    }
  },
  "cells": [
    {
      "cell_type": "code",
      "metadata": {
        "id": "cTeT5g0CcG46"
      },
      "source": [
        ""
      ],
      "execution_count": null,
      "outputs": []
    },
    {
      "cell_type": "markdown",
      "metadata": {
        "id": "xguSam_rcIRU"
      },
      "source": [
        "#**Teorema da redutibilidade**\n",
        "\n",
        "##1  &nbsp;  Definição"
      ]
    },
    {
      "cell_type": "markdown",
      "metadata": {
        "id": "8JSXwILatsjR"
      },
      "source": [
        "Todo conjunto completo de informação pode ser quantificado através da sua entropia (Shannon et al.), se por exemplo, aplicarmos transformações em qualquer tipo de informação podem ocorrer inconsistências e ruídos na informação, i.e, toda informação também pode ser definida através de sua completude ou consistência, quanto maior sua entropia maior será sua completude, em oposição, quanto menor sua entropia maior será a sua consistência. A completude de um dado se refere, principalmente, ao tamanho da informação e sua complexidade, por exemplo, um dado de 6 faces tem maior completude do que uma moeda, porém a moeda consegue fornecer dados mais consistentes do que o dado de 6 faces. Sendo assim, o teorema da redutibilidade define-se que ao se aplicar qualquer que seja a transformação num elemento, então a entropia dele irá aumentar e sua consistência diminuir. Em outras palavras, qualquer transformação num dado diminui a probabilidade de uma informação passar uma mensagem correta, adversamente, em condições não ideais um dado nunca terá consistência zero.\n",
        "\n",
        "\n",
        "1.   Além disso, existe um caso extremo que é o chamado *blackout da informação* que é quando uma transformação faz com que a informação tenha uma entropia infinita positivamente, isto é, consistência zero.\n",
        "\n",
        "$$  I(E) = - \\log_2({p(E)}) $$\n",
        "\n",
        "$$ blackout  = \\lim_{E \\to \\infty+} (I(E)) = \\infty $$\n",
        "\n",
        "\n"
      ]
    },
    {
      "cell_type": "markdown",
      "metadata": {
        "id": "boAdPi-VTVzu"
      },
      "source": [
        "##3  &nbsp;  Completude e consistência da informação\n",
        "\n",
        "Qualquer que seja o tipo de informação ela tem algumas características intrinsecas a ela que se refere ao processo de aquisição da informação, a completude da informação refere-se ao o quão semelhante a realidade ela é, por exemplo, uma foto de uma camêra de uma árvore é semelhante a realidade, mas nunca é perfeitamente real. Já a consistência compete a coerência da mensagem, se um dado é consistente, então a sua informação é de fácil entendimento para uma grande parte de observadores, em outras palavras, essa mensagem consegue se aplicar bem em boa parte dos contextos. Por exemplo, uma imagem de uma árvore (nem todas) é um dado consistente, visto que grande parte dos observadores entendem qual é a mensagem passada.\n",
        "<br/>\n",
        "Além disso, devemos tomar em conta que a completude e consistência depende do observador/receptor da informação, em condições ideais, temos o chamado **Deus Receptor**, isto é, um receptor em que toda informação que chega nele tem uma consistência infinita, qualquer informação para ele é entendida completamente. Ainda mais, quanto a completude há a situação chamada **Informação ideal**, isto é, quando uma informação é perfeitamente semelhante a realidade, sem falhas, sem erros, sem qualquer coisa que possa causar um ruido na informação, isso acontece quando a completude é infinita, mas vale notar que completude infinita tem relação direta com a entropia, mas não é a mesma coisa."
      ]
    },
    {
      "cell_type": "markdown",
      "metadata": {
        "id": "qMxs_EaGupMQ"
      },
      "source": [
        "##2  &nbsp;  Utilizando o teorema para provar a incompletude de Godel"
      ]
    },
    {
      "cell_type": "markdown",
      "metadata": {
        "id": "oGETgwZIu2JQ"
      },
      "source": [
        "A priori, vamos a seguir:\n",
        "\n",
        "\n",
        "1.   **Axioma: A matemática é uma informação e também uma simplificação da realidade.**\n",
        "2.   **Hipótese 1: A matemática é completa, alta entropia.**\n",
        "3.   **Hipótese 2: A matemática é consistente, baixa entropia.**\n",
        "4.  **Corolário: A matemática é uma simplificação da realidade, portanto é uma transformação da informação proveniente da 'realidade'. Portanto, o teorema da redutibilidade se aplica**\n",
        "\n",
        "De acordo com o **Teorema da Redutibilidade** transformações alteram a entropia da informação e sua consistência, em outras palavras, sua completude ou consistência. \n",
        "Portanto, se tomarmos a hipótese 1 temos que a matemática é completa, porém não é consistente. Caso contrário, concluímos que a matemática se consistente, não é completa.\n",
        "Sendo assim, veja que chegamos a mesma conclusão de Godel, que ou a matemática é completa ou ela é consistente. QED"
      ]
    },
    {
      "cell_type": "code",
      "metadata": {
        "id": "GnUhVlTFvgUm"
      },
      "source": [
        ""
      ],
      "execution_count": null,
      "outputs": []
    }
  ]
}